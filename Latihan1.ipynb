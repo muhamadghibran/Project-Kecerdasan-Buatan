{
  "nbformat": 4,
  "nbformat_minor": 0,
  "metadata": {
    "colab": {
      "provenance": []
    },
    "kernelspec": {
      "name": "python3",
      "display_name": "Python 3"
    },
    "language_info": {
      "name": "python"
    }
  },
  "cells": [
    {
      "cell_type": "code",
      "execution_count": null,
      "metadata": {
        "id": "wC8slYZFrKMC"
      },
      "outputs": [],
      "source": [
        "# Import libraries\n",
        "from transformers import AutoTokenizer, AutoModelForSequenceClassification\n",
        "import torch\n",
        "\n",
        "# Load model dan tokenizer\n",
        "tokenizer = AutoTokenizer.from_pretrained(\"indolem/indobert-base-uncased\")\n",
        "model = AutoModelForSequenceClassification.from_pretrained(\"indolem/indobert-base-uncased\")"
      ]
    },
    {
      "cell_type": "code",
      "source": [
        "# Contoh teks\n",
        "texts = [\n",
        "    \"Pelayanan di restoran ini sangat memuaskan, makanannya juga enak\",\n",
        "    \"Kecewa dengan kualitas produk ini, tidak sesuai ekspektasi saya\"\n",
        "]"
      ],
      "metadata": {
        "id": "9z3DM3eOrhF2"
      },
      "execution_count": null,
      "outputs": []
    },
    {
      "cell_type": "code",
      "source": [
        "# Tokenize teks\n",
        "encoded_inputs = tokenizer(texts, padding=True, truncation=True, return_tensors=\"pt\")"
      ],
      "metadata": {
        "id": "36WbfbUerj0E"
      },
      "execution_count": null,
      "outputs": []
    },
    {
      "cell_type": "code",
      "source": [
        "# Prediksi\n",
        "with torch.no_grad():\n",
        "    outputs = model(**encoded_inputs)\n",
        "    predictions = torch.nn.functional.softmax(outputs.logits, dim=-1)\n"
      ],
      "metadata": {
        "id": "FM8g5owvrmeR"
      },
      "execution_count": null,
      "outputs": []
    },
    {
      "cell_type": "code",
      "source": [
        "# Hasil\n",
        "for i, text in enumerate(texts):\n",
        "    sentiment = \"positif\" if predictions[i, 1] > predictions[i, 0] else \"negatif\"\n",
        "    print(f\"Text: {text}\")\n",
        "    print(f\"Sentimen: {sentiment} (Confidence: {max(predictions[i]).item():.4f})\\n\")"
      ],
      "metadata": {
        "id": "O1f_f9jNrqnX"
      },
      "execution_count": null,
      "outputs": []
    }
  ]
}